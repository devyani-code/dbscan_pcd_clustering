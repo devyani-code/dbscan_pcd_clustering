{
 "cells": [
  {
   "cell_type": "code",
   "execution_count": 5,
   "metadata": {},
   "outputs": [],
   "source": [
    "import numpy as np\n",
    "import open3d\n",
    "import pandas as pd\n",
    "import matplotlib.pyplot as plt\n",
    "from sklearn.datasets import make_blobs\n",
    "from sklearn.neighbors import NearestNeighbors\n",
    "import datetime\n",
    "\n",
    "\n",
    "import random"
   ]
  },
  {
   "cell_type": "markdown",
   "metadata": {},
   "source": [
    "Hyper paramters\n",
    "- epsilon\n",
    "- minpts\n",
    "- voxelsize\n",
    "- Min_pts in cluster for bounding box\n",
    "- No. of clusters\n"
   ]
  },
  {
   "cell_type": "code",
   "execution_count": 6,
   "metadata": {},
   "outputs": [],
   "source": [
    "pcd = open3d.io.read_point_cloud(\"assignment/pcd_10.pcd\", format = 'auto')\n",
    "open3d.visualization.draw_geometries([pcd])"
   ]
  },
  {
   "cell_type": "code",
   "execution_count": 19,
   "metadata": {},
   "outputs": [
    {
     "name": "stdout",
     "output_type": "stream",
     "text": [
      "45785\n",
      "10600\n"
     ]
    }
   ],
   "source": [
    "###Downsampling\n",
    "downsample_pcd = pcd.voxel_down_sample(voxel_size = 0.6)\n",
    "open3d.visualization.draw_geometries([downsample_pcd])\n",
    "print(len(pcd.points))\n",
    "print(len(downsample_pcd.points))"
   ]
  },
  {
   "cell_type": "code",
   "execution_count": 20,
   "metadata": {},
   "outputs": [],
   "source": [
    "###Segmentation\n",
    "_, inliers = downsample_pcd.segment_plane(distance_threshold = 0.3, ransac_n = 3, num_iterations=250)\n",
    "inlier_cloud = downsample_pcd.select_by_index(inliers)\n",
    "outlier_cloud = downsample_pcd.select_by_index(inliers, invert=True)\n",
    "inlier_cloud.paint_uniform_color([1,0,0])\n",
    "outlier_cloud.paint_uniform_color([0,0,1])\n",
    "open3d.visualization.draw_geometries([inlier_cloud,outlier_cloud])"
   ]
  },
  {
   "cell_type": "code",
   "execution_count": 21,
   "metadata": {},
   "outputs": [],
   "source": [
    "data = np.asarray([outlier_cloud.points])\n",
    "data = data.reshape((len(outlier_cloud.points),3))\n"
   ]
  },
  {
   "cell_type": "code",
   "execution_count": 22,
   "metadata": {},
   "outputs": [],
   "source": [
    "def euclidean_distance(p1,p2):\n",
    "    return np.sqrt(np.sum((p1-p2)**2))\n",
    "\n",
    "def get_neighbors(X, pt, epsilon, nn):\n",
    "    indices = nn.radius_neighbors([X[pt]], radius=epsilon, return_distance=False)\n",
    "    return indices[0]\n",
    "\n",
    "\n",
    "def expand(X, clusters, point, neighbors, currentPoint, eps, minPts, nn):\n",
    "    clusters[point] = currentPoint\n",
    "    \n",
    "    i = 0\n",
    "    while i < len(neighbors):\n",
    "        nextPoint = neighbors[i]\n",
    "        \n",
    "        if clusters[nextPoint] == -1:\n",
    "            clusters[nextPoint] = currentPoint\n",
    "        elif clusters[nextPoint] == 0:\n",
    "            clusters[nextPoint] = currentPoint\n",
    "            nextNeighbors = get_neighbors(X, nextPoint, eps, nn)\n",
    "            \n",
    "            if len(nextNeighbors) >= minPts:\n",
    "                neighbors = np.concatenate((neighbors, nextNeighbors))\n",
    "        \n",
    "        i += 1\n",
    "    \n",
    "\n",
    "def optimized_DBSCAN(X, clusters, eps, minPts):\n",
    "    \n",
    "    currentPoint = 0\n",
    "    nn = NearestNeighbors(radius=eps)\n",
    "    nn.fit(X)\n",
    "    \n",
    "    for i in range(0, X.shape[0]):\n",
    "        if clusters[i] != 0:\n",
    "            continue\n",
    "    \n",
    "        neighbors = get_neighbors(X, i, eps, nn)\n",
    "\n",
    "        if len(neighbors) < minPts:\n",
    "            clusters[i] = -1\n",
    "\n",
    "        else:\n",
    "            currentPoint += 1\n",
    "            expand(X, clusters, i, neighbors, currentPoint, eps, minPts, nn)\n",
    "    \n",
    "    return clusters"
   ]
  },
  {
   "cell_type": "code",
   "execution_count": 23,
   "metadata": {},
   "outputs": [],
   "source": [
    "start = datetime.datetime.now()\n",
    "cluster = [0]*data.shape[0]\n",
    "c=optimized_DBSCAN(data,cluster,eps=0.9, minPts=6)\n",
    "end = datetime.datetime.now()\n"
   ]
  },
  {
   "cell_type": "code",
   "execution_count": 24,
   "metadata": {},
   "outputs": [
    {
     "name": "stdout",
     "output_type": "stream",
     "text": [
      "Time to perform clustering: 0:00:06.082052\n"
     ]
    }
   ],
   "source": [
    "print('Time to perform clustering:', end-start)"
   ]
  },
  {
   "cell_type": "code",
   "execution_count": 13,
   "metadata": {},
   "outputs": [],
   "source": [
    "c = np.array(c)\n",
    "\n",
    "max_label = c.max()\n",
    "colors = plt.get_cmap(\"tab20\")(c/(max_label if max_label >0 else 1))\n",
    "\n",
    "colors[c<0] = 0\n",
    "outlier_cloud.colors = open3d.utility.Vector3dVector(colors[:,:3])\n",
    "open3d.visualization.draw_geometries([outlier_cloud])"
   ]
  },
  {
   "cell_type": "code",
   "execution_count": 14,
   "metadata": {},
   "outputs": [],
   "source": [
    "Max_points=1000\n",
    "Min_points=20\n",
    "clusters = []\n",
    "obbs=[]\n",
    "indexes = pd.Series(range(len(c))).groupby(c,sort = False).apply(list).tolist()\n",
    "for i in range(0,len(indexes)):\n",
    "    nb_pts = len(outlier_cloud.select_by_index(indexes[i]).points)\n",
    "    if nb_pts>Min_points:\n",
    "        \n",
    "        sub_cloud = outlier_cloud.select_by_index(indexes[i])\n",
    "        obb = sub_cloud.get_axis_aligned_bounding_box()\n",
    "        obb.color = (0,0,1)\n",
    "        obbs.append(obb)\n"
   ]
  },
  {
   "cell_type": "code",
   "execution_count": 15,
   "metadata": {},
   "outputs": [],
   "source": [
    "list_of_visuals = []\n",
    "list_of_visuals.append(outlier_cloud)\n",
    "list_of_visuals.extend(obbs)\n",
    "list_of_visuals.append(inlier_cloud)\n",
    "open3d.visualization.draw_geometries(list_of_visuals)"
   ]
  },
  {
   "cell_type": "code",
   "execution_count": 26,
   "metadata": {},
   "outputs": [],
   "source": [
    "\n",
    "def euclidean_distance(p1,p2):\n",
    "    return np.sqrt(np.sum((p1-p2)**2))\n",
    "\n",
    "def get_neighbors(X,pt,epsilon):\n",
    "    neighbour=[]\n",
    "    for index in range(X.shape[0]):\n",
    "        if euclidean_distance(X[pt],X[index])<epsilon:\n",
    "            neighbour.append(index)\n",
    "    return neighbour\n",
    "\n",
    "\n",
    "def expand(X, clusters, point, neighbors, currentPoint, eps, minPts):\n",
    "    \n",
    "    clusters[point] = currentPoint\n",
    "    \n",
    "    i = 0\n",
    "    while i < len(neighbors):\n",
    "        \n",
    "        nextPoint = neighbors[i]\n",
    "        \n",
    "        if clusters[nextPoint] == -1:\n",
    "            clusters[nextPoint] = currentPoint\n",
    "        \n",
    "        elif clusters[nextPoint] == 0:\n",
    "            clusters[nextPoint] = currentPoint\n",
    "            \n",
    "            nextNeighbors = get_neighbors(X, nextPoint, eps)\n",
    "            \n",
    "            if len(nextNeighbors) >= minPts:\n",
    "                neighbors = neighbors + nextNeighbors\n",
    "        \n",
    "        i += 1\n",
    "    \n",
    "\n",
    "def simple_DBSCAN(X, clusters, eps, minPts):\n",
    "    \n",
    "    currentPoint = 0\n",
    "    \n",
    "    for i in range(0, X.shape[0]):\n",
    "        print(i)\n",
    "        if clusters[i] != 0:\n",
    "            continue\n",
    "    \n",
    "        neighbors = get_neighbors(X, i, eps)\n",
    "\n",
    "        if len(neighbors) < minPts:\n",
    "            clusters[i] = -1\n",
    "\n",
    "        else:\n",
    "            currentPoint += 1\n",
    "            expand(X, clusters, i, neighbors, currentPoint, eps, minPts)\n",
    "    \n",
    "    return clusters\n",
    "\n",
    "\n"
   ]
  },
  {
   "cell_type": "code",
   "execution_count": null,
   "metadata": {},
   "outputs": [],
   "source": [
    "start = datetime.datetime.now()\n",
    "unpti_cluster = [0]*data.shape[0]\n",
    "uc=simple_DBSCAN(data,unpti_cluster,eps=0.9, minPts=6)\n",
    "end = datetime.datetime.now()\n",
    "\n"
   ]
  },
  {
   "cell_type": "code",
   "execution_count": 29,
   "metadata": {},
   "outputs": [
    {
     "name": "stdout",
     "output_type": "stream",
     "text": [
      "Time to perform clustering: -1 day, 23:45:14.550017\n"
     ]
    }
   ],
   "source": [
    "print('Time to perform clustering:', end-start)"
   ]
  }
 ],
 "metadata": {
  "kernelspec": {
   "display_name": "Python 3",
   "language": "python",
   "name": "python3"
  },
  "language_info": {
   "codemirror_mode": {
    "name": "ipython",
    "version": 3
   },
   "file_extension": ".py",
   "mimetype": "text/x-python",
   "name": "python",
   "nbconvert_exporter": "python",
   "pygments_lexer": "ipython3",
   "version": "3.9.7"
  },
  "orig_nbformat": 4
 },
 "nbformat": 4,
 "nbformat_minor": 2
}
