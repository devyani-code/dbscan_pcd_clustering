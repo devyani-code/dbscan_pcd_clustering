{
 "cells": [
  {
   "cell_type": "code",
   "execution_count": 2,
   "metadata": {},
   "outputs": [
    {
     "name": "stdout",
     "output_type": "stream",
     "text": [
      "Jupyter environment detected. Enabling Open3D WebVisualizer.\n",
      "[Open3D INFO] WebRTC GUI backend enabled.\n",
      "[Open3D INFO] WebRTCWindowSystem: HTTP handshake server disabled.\n"
     ]
    }
   ],
   "source": [
    "import numpy as np\n",
    "import open3d\n",
    "import pandas as pd\n",
    "import matplotlib.pyplot as plt\n",
    "from sklearn.datasets import make_blobs\n",
    "from sklearn.neighbors import NearestNeighbors\n",
    "import datetime\n",
    "\n",
    "\n",
    "import random"
   ]
  },
  {
   "cell_type": "markdown",
   "metadata": {},
   "source": [
    "Hyper paramters\n",
    "- epsilon\n",
    "- minpts\n",
    "- voxelsize\n",
    "- Min_pts in cluster for bounding box\n",
    "- No. of clusters\n"
   ]
  },
  {
   "cell_type": "code",
   "execution_count": 2,
   "metadata": {},
   "outputs": [],
   "source": [
    "pcd = open3d.io.read_point_cloud(\"assignment/pcd_10.pcd\", format = 'auto')\n",
    "open3d.visualization.draw_geometries([pcd])"
   ]
  },
  {
   "cell_type": "code",
   "execution_count": 27,
   "metadata": {},
   "outputs": [
    {
     "name": "stdout",
     "output_type": "stream",
     "text": [
      "45785\n",
      "24922\n"
     ]
    }
   ],
   "source": [
    "###Downsampling\n",
    "downsample_pcd = pcd.voxel_down_sample(voxel_size = 0.2)\n",
    "open3d.visualization.draw_geometries([downsample_pcd])\n",
    "print(len(pcd.points))\n",
    "print(len(downsample_pcd.points))"
   ]
  },
  {
   "cell_type": "code",
   "execution_count": 28,
   "metadata": {},
   "outputs": [],
   "source": [
    "###Segmentation\n",
    "_, inliers = downsample_pcd.segment_plane(distance_threshold = 0.3, ransac_n = 3, num_iterations=250)\n",
    "inlier_cloud = downsample_pcd.select_by_index(inliers)\n",
    "outlier_cloud = downsample_pcd.select_by_index(inliers, invert=True)\n",
    "inlier_cloud.paint_uniform_color([1,0,0])\n",
    "outlier_cloud.paint_uniform_color([0,0,1])\n",
    "open3d.visualization.draw_geometries([inlier_cloud,outlier_cloud])"
   ]
  },
  {
   "cell_type": "code",
   "execution_count": 5,
   "metadata": {},
   "outputs": [],
   "source": [
    "labels = np.array(outlier_cloud.cluster_dbscan(eps=0.55, min_points=10, print_progress=True))\n",
    "max_label = labels.max()\n",
    "colors = plt.get_cmap(\"tab20\")(labels/(max_label if max_label >0 else 1))\n",
    "\n",
    "colors[labels<0] = 0\n",
    "outlier_cloud.colors = open3d.utility.Vector3dVector(colors[:,:3])\n",
    "open3d.visualization.draw_geometries([outlier_cloud])"
   ]
  },
  {
   "cell_type": "code",
   "execution_count": 6,
   "metadata": {},
   "outputs": [
    {
     "name": "stdout",
     "output_type": "stream",
     "text": [
      "(12315,)\n"
     ]
    }
   ],
   "source": [
    "print(labels.shape)"
   ]
  },
  {
   "cell_type": "code",
   "execution_count": 7,
   "metadata": {},
   "outputs": [],
   "source": [
    "Max_points=1000\n",
    "Min_points=20\n",
    "clusters = []\n",
    "obbs=[]\n",
    "indexes = pd.Series(range(len(labels))).groupby(labels,sort = False).apply(list).tolist()\n",
    "for i in range(0,len(indexes)):\n",
    "    nb_pts = len(outlier_cloud.select_by_index(indexes[i]).points)\n",
    "    if nb_pts>Min_points:\n",
    "        \n",
    "        sub_cloud = outlier_cloud.select_by_index(indexes[i])\n",
    "        obb = sub_cloud.get_axis_aligned_bounding_box()\n",
    "        obb.color = (0,0,1)\n",
    "        obbs.append(obb)\n",
    "\n"
   ]
  },
  {
   "cell_type": "code",
   "execution_count": 8,
   "metadata": {},
   "outputs": [],
   "source": [
    "list_of_visuals = []\n",
    "list_of_visuals.append(outlier_cloud)\n",
    "list_of_visuals.extend(obbs)\n",
    "list_of_visuals.append(inlier_cloud)\n",
    "open3d.visualization.draw_geometries(list_of_visuals)"
   ]
  },
  {
   "cell_type": "code",
   "execution_count": 29,
   "metadata": {},
   "outputs": [],
   "source": [
    "data = np.asarray([outlier_cloud.points])\n",
    "data = data.reshape((len(outlier_cloud.points),3))\n"
   ]
  },
  {
   "cell_type": "code",
   "execution_count": 30,
   "metadata": {},
   "outputs": [],
   "source": [
    "def euclidean_distance(p1,p2):\n",
    "    return np.sqrt(np.sum((p1-p2)**2))\n",
    "\n",
    "def get_neighbors(X, pt, epsilon, nn):\n",
    "    indices = nn.radius_neighbors([X[pt]], radius=epsilon, return_distance=False)\n",
    "    return indices[0]\n",
    "\n",
    "\n",
    "def expand(X, clusters, point, neighbors, currentPoint, eps, minPts, nn):\n",
    "    clusters[point] = currentPoint\n",
    "    \n",
    "    i = 0\n",
    "    while i < len(neighbors):\n",
    "        nextPoint = neighbors[i]\n",
    "        \n",
    "        if clusters[nextPoint] == -1:\n",
    "            clusters[nextPoint] = currentPoint\n",
    "        elif clusters[nextPoint] == 0:\n",
    "            clusters[nextPoint] = currentPoint\n",
    "            nextNeighbors = get_neighbors(X, nextPoint, eps, nn)\n",
    "            \n",
    "            if len(nextNeighbors) >= minPts:\n",
    "                neighbors = np.concatenate((neighbors, nextNeighbors))\n",
    "        \n",
    "        i += 1\n",
    "    \n",
    "\n",
    "def optimized_DBSCAN(X, clusters, eps, minPts):\n",
    "    \n",
    "    currentPoint = 0\n",
    "    nn = NearestNeighbors(radius=eps)\n",
    "    nn.fit(X)\n",
    "    \n",
    "    for i in range(0, X.shape[0]):\n",
    "        if clusters[i] != 0:\n",
    "            continue\n",
    "    \n",
    "        neighbors = get_neighbors(X, i, eps, nn)\n",
    "\n",
    "        if len(neighbors) < minPts:\n",
    "            clusters[i] = -1\n",
    "\n",
    "        else:\n",
    "            currentPoint += 1\n",
    "            expand(X, clusters, i, neighbors, currentPoint, eps, minPts, nn)\n",
    "    \n",
    "    return clusters"
   ]
  },
  {
   "cell_type": "code",
   "execution_count": 3,
   "metadata": {},
   "outputs": [
    {
     "ename": "NameError",
     "evalue": "name 'data' is not defined",
     "output_type": "error",
     "traceback": [
      "\u001b[1;31m---------------------------------------------------------------------------\u001b[0m",
      "\u001b[1;31mNameError\u001b[0m                                 Traceback (most recent call last)",
      "\u001b[1;32m~\\AppData\\Local\\Temp/ipykernel_34296/3931503331.py\u001b[0m in \u001b[0;36m<module>\u001b[1;34m\u001b[0m\n\u001b[0;32m      1\u001b[0m \u001b[0mstart\u001b[0m \u001b[1;33m=\u001b[0m \u001b[0mdatetime\u001b[0m\u001b[1;33m.\u001b[0m\u001b[0mdatetime\u001b[0m\u001b[1;33m.\u001b[0m\u001b[0mnow\u001b[0m\u001b[1;33m(\u001b[0m\u001b[1;33m)\u001b[0m\u001b[1;33m\u001b[0m\u001b[1;33m\u001b[0m\u001b[0m\n\u001b[1;32m----> 2\u001b[1;33m \u001b[0mcluster\u001b[0m \u001b[1;33m=\u001b[0m \u001b[1;33m[\u001b[0m\u001b[1;36m0\u001b[0m\u001b[1;33m]\u001b[0m\u001b[1;33m*\u001b[0m\u001b[0mdata\u001b[0m\u001b[1;33m.\u001b[0m\u001b[0mshape\u001b[0m\u001b[1;33m[\u001b[0m\u001b[1;36m0\u001b[0m\u001b[1;33m]\u001b[0m\u001b[1;33m\u001b[0m\u001b[1;33m\u001b[0m\u001b[0m\n\u001b[0m\u001b[0;32m      3\u001b[0m \u001b[0mc\u001b[0m\u001b[1;33m=\u001b[0m\u001b[0msimple_DBSCAN\u001b[0m\u001b[1;33m(\u001b[0m\u001b[0mdata\u001b[0m\u001b[1;33m,\u001b[0m\u001b[0mcluster\u001b[0m\u001b[1;33m,\u001b[0m\u001b[0meps\u001b[0m\u001b[1;33m=\u001b[0m\u001b[1;36m0.9\u001b[0m\u001b[1;33m,\u001b[0m \u001b[0mminPts\u001b[0m\u001b[1;33m=\u001b[0m\u001b[1;36m6\u001b[0m\u001b[1;33m)\u001b[0m\u001b[1;33m\u001b[0m\u001b[1;33m\u001b[0m\u001b[0m\n\u001b[0;32m      4\u001b[0m \u001b[0mend\u001b[0m \u001b[1;33m=\u001b[0m \u001b[0mdatetime\u001b[0m\u001b[1;33m.\u001b[0m\u001b[0mdatetime\u001b[0m\u001b[1;33m.\u001b[0m\u001b[0mnow\u001b[0m\u001b[1;33m(\u001b[0m\u001b[1;33m)\u001b[0m\u001b[1;33m\u001b[0m\u001b[1;33m\u001b[0m\u001b[0m\n",
      "\u001b[1;31mNameError\u001b[0m: name 'data' is not defined"
     ]
    }
   ],
   "source": [
    "start = datetime.datetime.now()\n",
    "cluster = [0]*data.shape[0]\n",
    "c=optimized_DBSCAN(data,cluster,eps=0.9, minPts=6)\n",
    "end = datetime.datetime.now()\n"
   ]
  },
  {
   "cell_type": "code",
   "execution_count": null,
   "metadata": {},
   "outputs": [],
   "source": [
    "print('Time to perform clustering:', end-start)"
   ]
  },
  {
   "cell_type": "code",
   "execution_count": 38,
   "metadata": {},
   "outputs": [],
   "source": [
    "c = np.array(c)\n",
    "\n",
    "max_label = c.max()\n",
    "colors = plt.get_cmap(\"tab20\")(c/(max_label if max_label >0 else 1))\n",
    "\n",
    "colors[c<0] = 0\n",
    "outlier_cloud.colors = open3d.utility.Vector3dVector(colors[:,:3])\n",
    "open3d.visualization.draw_geometries([outlier_cloud])"
   ]
  },
  {
   "cell_type": "code",
   "execution_count": 39,
   "metadata": {},
   "outputs": [],
   "source": [
    "Max_points=1000\n",
    "Min_points=20\n",
    "clusters = []\n",
    "obbs=[]\n",
    "indexes = pd.Series(range(len(c))).groupby(c,sort = False).apply(list).tolist()\n",
    "for i in range(0,len(indexes)):\n",
    "    nb_pts = len(outlier_cloud.select_by_index(indexes[i]).points)\n",
    "    if nb_pts>Min_points:\n",
    "        \n",
    "        sub_cloud = outlier_cloud.select_by_index(indexes[i])\n",
    "        obb = sub_cloud.get_axis_aligned_bounding_box()\n",
    "        obb.color = (0,0,1)\n",
    "        obbs.append(obb)\n"
   ]
  },
  {
   "cell_type": "code",
   "execution_count": 41,
   "metadata": {},
   "outputs": [],
   "source": [
    "list_of_visuals = []\n",
    "list_of_visuals.append(outlier_cloud)\n",
    "list_of_visuals.extend(obbs)\n",
    "list_of_visuals.append(inlier_cloud)\n",
    "open3d.visualization.draw_geometries(list_of_visuals)"
   ]
  },
  {
   "cell_type": "code",
   "execution_count": null,
   "metadata": {},
   "outputs": [],
   "source": [
    "\n",
    "def get_neighbors(X,pt,epsilon):\n",
    "    neighbour=[]\n",
    "    for index in range(X.shape[0]):\n",
    "        if euclidean_distance(X[pt],X[index])<epsilon:\n",
    "            neighbour.append(index)\n",
    "    return neighbour\n",
    "\n",
    "\n"
   ]
  }
 ],
 "metadata": {
  "kernelspec": {
   "display_name": "Python 3",
   "language": "python",
   "name": "python3"
  },
  "language_info": {
   "codemirror_mode": {
    "name": "ipython",
    "version": 3
   },
   "file_extension": ".py",
   "mimetype": "text/x-python",
   "name": "python",
   "nbconvert_exporter": "python",
   "pygments_lexer": "ipython3",
   "version": "3.9.7"
  },
  "orig_nbformat": 4
 },
 "nbformat": 4,
 "nbformat_minor": 2
}
